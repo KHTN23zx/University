{
 "cells": [
  {
   "cell_type": "code",
   "execution_count": 1,
   "id": "8e6624ea",
   "metadata": {},
   "outputs": [],
   "source": [
    "def find_smallest_cycle(n):\n",
    "    seq = [n]\n",
    "    while True:\n",
    "        current = sum(int(digit)**2 for digit in str(seq[-1]))\n",
    "        if current in seq:\n",
    "            start_idx = seq.index(current)\n",
    "            cycle = seq[start_idx:]\n",
    "            return cycle\n",
    "        seq.append(current)"
   ]
  },
  {
   "cell_type": "code",
   "execution_count": 2,
   "id": "e82158ab",
   "metadata": {},
   "outputs": [
    {
     "name": "stdout",
     "output_type": "stream",
     "text": [
      "[89, 145, 42, 20, 4, 16, 37, 58]\n"
     ]
    }
   ],
   "source": [
    "N = 85\n",
    "smallest_cycle = find_smallest_cycle(N)\n",
    "print(smallest_cycle)"
   ]
  },
  {
   "cell_type": "code",
   "execution_count": null,
   "id": "8b273956",
   "metadata": {},
   "outputs": [],
   "source": []
  }
 ],
 "metadata": {
  "kernelspec": {
   "display_name": "Python 3 (ipykernel)",
   "language": "python",
   "name": "python3"
  },
  "language_info": {
   "codemirror_mode": {
    "name": "ipython",
    "version": 3
   },
   "file_extension": ".py",
   "mimetype": "text/x-python",
   "name": "python",
   "nbconvert_exporter": "python",
   "pygments_lexer": "ipython3",
   "version": "3.9.12"
  }
 },
 "nbformat": 4,
 "nbformat_minor": 5
}
