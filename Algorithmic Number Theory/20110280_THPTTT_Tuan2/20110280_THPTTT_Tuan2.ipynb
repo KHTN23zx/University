{
 "cells": [
  {
   "cell_type": "code",
   "execution_count": 1,
   "id": "f1346096",
   "metadata": {},
   "outputs": [],
   "source": [
    "import numpy as np\n",
    "import random\n",
    "import matplotlib.pyplot as plt"
   ]
  },
  {
   "cell_type": "markdown",
   "id": "8dcd39bb",
   "metadata": {},
   "source": [
    "Bài 1. Cho một số tự nhiên x và A là 1 mảng N số tự nhiên đôi một khác\n",
    "nhau. Hãy thiết kế một thuật toán có độ phức tạp O(N log N) theo thời\n",
    "gian để kiểm tra xem có tồn tại (i, j) sao cho A[i] + A[j] = x\n",
    "\n",
    "1. Input:N, A, x.\n",
    "2. Output: (i, j).\n",
    "\n",
    "Trong đó cho x = 50.\n",
    "- N tăng dần theo thứ tự 10, 20, 30, . . . , 1000.\n",
    "- A được tạo ngẫu nhiên sao cho A[i] ∈ [1, 2, . . . , 10000], A[i] 6= A[j] ∀i, j ∈\n",
    "{1, . . . , 1000}.\n",
    "- Chứng minh rằng thuật toán đưa ra thỏa yêu cầu đề bài.\n",
    "- Với mỗi N ∈ {10, 20, . . . , 1000}, chọn x = 50 tạo ngẫu nhiên A và tính\n",
    "thời gian trung bình để kiểm tra ∃(i, j) : A[i] + A[j] = x. Gọi giá\n",
    "trị đó là T(N). So sánh kết quả thực nghiệm và kết quả lý thuyết:\n",
    "T(N) = O(N log N).\n"
   ]
  },
  {
   "cell_type": "code",
   "execution_count": 2,
   "id": "3d7a3ed8",
   "metadata": {},
   "outputs": [],
   "source": [
    "def merge_sort(a):\n",
    "    compare = assign = 0\n",
    "    current_size = 1\n",
    "    assign += 1\n",
    "    while current_size < len(a) - 1:\n",
    "        compare += 1 \n",
    "        left = 0\n",
    "        \n",
    "        while left < len(a)-1:\n",
    "            \n",
    "            mid = min((left + current_size - 1),(len(a)-1))\n",
    "             \n",
    "            right = ((2 * current_size + left - 1,\n",
    "                    len(a) - 1)[2 * current_size\n",
    "                        + left - 1 > len(a)-1])\n",
    "                             \n",
    "            a, compare_m, assign_m = merge(a, left, mid, right)\n",
    "            left = left + current_size*2\n",
    "            assign += (3 + assign_m)\n",
    "            compare += (1 + compare_m)\n",
    "            \n",
    "        current_size = 2 * current_size\n",
    "        assign += 2\n",
    "        compare += 1\n",
    "    compare += 1\n",
    "    return a, compare, assign\n",
    "\n",
    "# Merge Function\n",
    "def merge(a, l, m, r):\n",
    "    compare = assign = 0\n",
    "    \n",
    "    n1 = m - l + 1\n",
    "    n2 = r - m\n",
    "    L = [0] * n1\n",
    "    R = [0] * n2\n",
    "    for i in range(0, n1):\n",
    "        compare += 1\n",
    "        L[i] = a[l + i]\n",
    "        assign += 1\n",
    "    for i in range(0, n2):\n",
    "        compare += 1\n",
    "        R[i] = a[m + i + 1]\n",
    "        assign += 1\n",
    "    compare += 2\n",
    "    \n",
    "    i, j, k = 0, 0, l\n",
    "    while i < n1 and j < n2:\n",
    "        compare += 3\n",
    "        if L[i] > R[j]:\n",
    "            a[k] = R[j]\n",
    "            j += 1\n",
    "        else:\n",
    "            a[k] = L[i]\n",
    "            i += 1\n",
    "        k += 1\n",
    "        assign += 3\n",
    "    compare += 2\n",
    " \n",
    "    while i < n1:\n",
    "        compare += 1\n",
    "        a[k] = L[i]\n",
    "        i += 1\n",
    "        k += 1\n",
    "        assign += 3\n",
    " \n",
    "    while j < n2:\n",
    "        compare += 1\n",
    "        a[k] = R[j]\n",
    "        j += 1\n",
    "        k += 1\n",
    "        assign += 3\n",
    "    compare += 2\n",
    "    assign += 7\n",
    "    return a, compare, assign\n",
    "\n",
    "\n",
    "def binary_search(arr, low, high, x):\n",
    "    ''' This function implements binary search.\n",
    "    ------------------------------\n",
    "    Parameters:\n",
    "        @arr : given array\n",
    "        @x   : value to be needed to search\n",
    "    ------------------------------\n",
    "    Return:\n",
    "        The index of x in arr if present, else return -1.\n",
    "    '''\n",
    "    compare = assign = 1\n",
    "    \n",
    "    mid = 0\n",
    "    assign += 1\n",
    "    \n",
    "    while low <= high:\n",
    "        compare += 1\n",
    "        \n",
    "        mid = (high + low) // 2\n",
    "        assign += 1\n",
    "        \n",
    "        # If x is greater, ignore left half\n",
    "        compare += 1\n",
    "        if arr[mid] < x:\n",
    "            low = mid + 1\n",
    "            assign += 1\n",
    " \n",
    "        # If x is smaller, ignore right half\n",
    "        elif arr[mid] > x:\n",
    "            compare += 1\n",
    "            high = mid - 1\n",
    "            assign += 1\n",
    " \n",
    "        # means x is present at mid\n",
    "        else:\n",
    "            return mid, compare, assign\n",
    "    \n",
    "    compare += 1\n",
    "    # If we reach here, then the element was not present\n",
    "    return -1, compare, assign"
   ]
  },
  {
   "cell_type": "code",
   "execution_count": 3,
   "id": "718e64e4",
   "metadata": {},
   "outputs": [],
   "source": [
    "def check_existence(A, N, x):\n",
    "    ''' This function checks the existence of pair index (i,j) s.t A[i] + A[j] = x\n",
    "    ----------------------------------\n",
    "    Parameters:\n",
    "        @A : given array\n",
    "        @N : length of A\n",
    "        @x : given value\n",
    "    ----------------------------------\n",
    "    Return:\n",
    "        The pair index (i,j) satisfied condition if exists,\n",
    "        else return -1'''\n",
    "    compare = assign = 0\n",
    "    A, compare_qs, assign_qs = merge_sort(A)\n",
    "    compare += compare_qs\n",
    "    assign += assign_qs\n",
    "    for i in range(N):\n",
    "        compare += 1\n",
    "        found_index, compare_bs, assign_bs = binary_search(A, i+1, N-1, x - A[i])\n",
    "        compare += compare_bs\n",
    "        assign += assign_bs\n",
    "        \n",
    "        compare += 1\n",
    "        if  found_index == -1:\n",
    "            continue\n",
    "        return (i, found_index), compare, assign\n",
    "    compare += 1\n",
    "    return -1, compare, assign"
   ]
  },
  {
   "cell_type": "code",
   "execution_count": 4,
   "id": "b03641c4",
   "metadata": {},
   "outputs": [
    {
     "name": "stdout",
     "output_type": "stream",
     "text": [
      "[4, 32, 33, 46, 60, 68, 80, 84, 89, 95]\n",
      "(0, 3)\n"
     ]
    }
   ],
   "source": [
    "random.seed(5)\n",
    "N = 10\n",
    "A = random.sample(range(1, 100), N)\n",
    "pair, _, _ = check_existence(A, N, x=50)\n",
    "print(merge_sort(A)[0])\n",
    "print(pair)"
   ]
  },
  {
   "cell_type": "code",
   "execution_count": 5,
   "id": "2e79d66f",
   "metadata": {},
   "outputs": [
    {
     "name": "stderr",
     "output_type": "stream",
     "text": [
      "C:\\Users\\DELL\\AppData\\Local\\Temp\\ipykernel_632\\3211011100.py:3: VisibleDeprecationWarning: Creating an ndarray from ragged nested sequences (which is a list-or-tuple of lists-or-tuples-or ndarrays with different lengths or shapes) is deprecated. If you meant to do this, you must specify 'dtype=object' when creating the ndarray.\n",
      "  AA = np.array([random.sample(range(1, 10000), n) for n in N])\n",
      "C:\\Users\\DELL\\AppData\\Local\\Temp\\ipykernel_632\\3211011100.py:4: VisibleDeprecationWarning: Creating an ndarray from ragged nested sequences (which is a list-or-tuple of lists-or-tuples-or ndarrays with different lengths or shapes) is deprecated. If you meant to do this, you must specify 'dtype=object' when creating the ndarray.\n",
      "  temp = np.array([check_existence(A, n, x=50) for (A, n) in zip(AA, N)])\n"
     ]
    },
    {
     "data": {
      "image/png": "[encoded data removed]",
      "text/plain": [
       "<Figure size 864x360 with 1 Axes>"
      ]
     },
     "metadata": {
      "needs_background": "light"
     },
     "output_type": "display_data"
    }
   ],
   "source": [
    "N = np.arange(10,1000+1,10)\n",
    "random.seed(3)\n",
    "AA = np.array([random.sample(range(1, 10000), n) for n in N])\n",
    "temp = np.array([check_existence(A, n, x=50) for (A, n) in zip(AA, N)])\n",
    "\n",
    "fig, ax = plt.subplots(figsize=(12,5))\n",
    "ax.plot(N, N*np.log2(N))\n",
    "ax.plot(N, temp[:,1])\n",
    "ax.plot(N, temp[:,2])\n",
    "ax.set(xlabel=\"N\")\n",
    "ax.legend([\"O(NlogN)\", \"assign\", \"compare\"])\n",
    "plt.savefig(\"ex1.jpg\")\n",
    "plt.show()"
   ]
  },
  {
   "cell_type": "code",
   "execution_count": null,
   "id": "525c3325",
   "metadata": {},
   "outputs": [],
   "source": []
  },
  {
   "cell_type": "code",
   "execution_count": null,
   "id": "7b8ab749",
   "metadata": {},
   "outputs": [],
   "source": []
  }
 ],
 "metadata": {
  "kernelspec": {
   "display_name": "Python 3 (ipykernel)",
   "language": "python",
   "name": "python3"
  },
  "language_info": {
   "codemirror_mode": {
    "name": "ipython",
    "version": 3
   },
   "file_extension": ".py",
   "mimetype": "text/x-python",
   "name": "python",
   "nbconvert_exporter": "python",
   "pygments_lexer": "ipython3",
   "version": "3.9.12"
  }
 },
 "nbformat": 4,
 "nbformat_minor": 5
}
